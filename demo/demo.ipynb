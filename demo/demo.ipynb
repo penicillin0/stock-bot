{
 "cells": [
  {
   "cell_type": "code",
   "execution_count": 41,
   "metadata": {
    "ExecuteTime": {
     "end_time": "2021-10-23T18:23:53.903889Z",
     "start_time": "2021-10-23T18:23:52.811492Z"
    }
   },
   "outputs": [],
   "source": [
    "import yfinance as yf"
   ]
  },
  {
   "cell_type": "code",
   "execution_count": 42,
   "metadata": {},
   "outputs": [
    {
     "name": "stdout",
     "output_type": "stream",
     "text": [
      "[*********************100%***********************]  2 of 2 completed\n"
     ]
    }
   ],
   "source": [
    "data = yf.download('3382.T 7203.T', period='1d', group_by='ticker')\n"
   ]
  },
  {
   "cell_type": "code",
   "execution_count": 43,
   "metadata": {},
   "outputs": [
    {
     "data": {
      "text/plain": [
       "()"
      ]
     },
     "execution_count": 43,
     "metadata": {},
     "output_type": "execute_result"
    }
   ],
   "source": [
    "msft = yf.Ticker(\"3382.T\")\n",
    "msft.options\n"
   ]
  },
  {
   "cell_type": "code",
   "execution_count": 44,
   "metadata": {},
   "outputs": [
    {
     "data": {
      "text/plain": [
       "1205100"
      ]
     },
     "execution_count": 44,
     "metadata": {},
     "output_type": "execute_result"
    }
   ],
   "source": [
    "data['3382.T'].Volume[0]\n"
   ]
  },
  {
   "cell_type": "code",
   "execution_count": 45,
   "metadata": {},
   "outputs": [
    {
     "data": {
      "text/plain": [
       "5718199500.0"
      ]
     },
     "execution_count": 45,
     "metadata": {},
     "output_type": "execute_result"
    }
   ],
   "source": [
    "data['3382.T'].Close[0] * data['3382.T'].Volume[0]\n"
   ]
  },
  {
   "cell_type": "code",
   "execution_count": 46,
   "metadata": {},
   "outputs": [],
   "source": [
    "core_30: dict = {\n",
    "    '3382': 'セブン',\n",
    "    '4046': '信越化',\n",
    "    '4452': '花王',\n",
    "    '4502': '武田',\n",
    "    '4503': 'アステラス',\n",
    "    '4568': '第一三共',\n",
    "    '6098': 'リクルート',\n",
    "    '6367': 'ダイキン',\n",
    "    '6501': '日立',\n",
    "    '6594': '日電産',\n",
    "    '6758': 'ソニー',\n",
    "    '6861': 'キーエンス',\n",
    "    '6954': 'ファナック',\n",
    "    '6981': '村田',\n",
    "    '7203': 'トヨタ',\n",
    "    '7267': 'ホンダ',\n",
    "    '7741': 'HOYA',\n",
    "    '7974': '任天堂',\n",
    "    '8001': '伊藤忠',\n",
    "    '8031': '三井物',\n",
    "    '8035': 'TEL',\n",
    "    '8058': '三菱商',\n",
    "    '8306': '三菱UFJ',\n",
    "    '8316': '三井住友',\n",
    "    '8411': 'みずほ',\n",
    "    '8766': '東京海上',\n",
    "    '9022': 'JR東海',\n",
    "    '9432': 'NTT',\n",
    "    '9433': 'KDDI',\n",
    "    '9984': 'SBG'\n",
    "}\n"
   ]
  },
  {
   "cell_type": "code",
   "execution_count": 47,
   "metadata": {},
   "outputs": [
    {
     "data": {
      "text/plain": [
       "30"
      ]
     },
     "execution_count": 47,
     "metadata": {},
     "output_type": "execute_result"
    }
   ],
   "source": [
    "len(core_30)\n"
   ]
  },
  {
   "cell_type": "code",
   "execution_count": 48,
   "metadata": {},
   "outputs": [
    {
     "name": "stdout",
     "output_type": "stream",
     "text": [
      "[*********************100%***********************]  30 of 30 completed\n"
     ]
    }
   ],
   "source": [
    "core_30_str = '.T '.join(core_30.keys()) + '.T'\n",
    "core_30_df = yf.download(core_30_str, period='1d', group_by='ticker')\n",
    "\n",
    "\n",
    "\n"
   ]
  },
  {
   "cell_type": "code",
   "execution_count": 49,
   "metadata": {},
   "outputs": [
    {
     "data": {
      "text/plain": [
       "Open         float64\n",
       "High         float64\n",
       "Low          float64\n",
       "Close        float64\n",
       "Adj Close    float64\n",
       "Volume         int64\n",
       "dtype: object"
      ]
     },
     "execution_count": 49,
     "metadata": {},
     "output_type": "execute_result"
    }
   ],
   "source": [
    "core_30_df['3382.T'].dtypes\n"
   ]
  },
  {
   "cell_type": "code",
   "execution_count": 84,
   "metadata": {},
   "outputs": [
    {
     "name": "stdout",
     "output_type": "stream",
     "text": [
      "['セブン/3382\\n4745.0(-0.38%)\\n\\n信越化/4046\\n2820.0(+1.38%)\\n\\n花王/4452\\n6391.0(-0.47%)\\n\\n武田/4502\\n3203.0(-0.12%)\\n\\nアステラス/4503\\n1957.5(+0.77%)\\n\\n', '第一三共/4568\\n2750.5(+0.33%)\\n\\nリクルート/6098\\n7015.0(-0.23%)\\n\\nダイキン/6367\\n25580.0(+1.49%)\\n\\n日立/6501\\n6685.0(+0.4%)\\n\\n日電産/6594\\n12590.0(+1.51%)\\n\\n', 'ソニー/6758\\n12815.0(+0.59%)\\n\\nキーエンス/6861\\n67210.0(+0.65%)\\n\\nファナック/6954\\n24395.0(+0.98%)\\n\\n村田/6981\\n8476.0(+0.31%)\\n\\nトヨタ/7203\\n1983.5(+0.53%)\\n\\n', 'ホンダ/7267\\n3417.0(-0.18%)\\n\\nHOYA/7741\\n17360.0(+1.15%)\\n\\n任天堂/7974\\n50020.0(+1.0%)\\n\\n伊藤忠/8001\\n3250.0(+0.71%)\\n\\n三井物/8031\\n2574.5(+0.72%)\\n\\n', 'TEL/8035\\n50750.0(+3.13%)\\n\\n三菱商/8058\\n3559.0(+0.37%)\\n\\n三菱UFJ/8306\\n652.7(-0.66%)\\n\\n三井住友/8316\\n3865.0(-0.21%)\\n\\nみずほ/8411\\n1530.5(-1.01%)\\n\\n', '東京海上/8766\\n6103.0(+0.15%)\\n\\nJR東海/9022\\n17045.0(+0.21%)\\n\\nNTT/9432\\n3120.0(-0.06%)\\n\\nKDDI/9433\\n3689.0(-0.43%)\\n\\nSBG/9984\\n6610.0(-0.14%)\\n\\n']\n"
     ]
    }
   ],
   "source": [
    "\n",
    "ans = []\n",
    "sentences = []\n",
    "\n",
    "sentence = ''\n",
    "for stock_code, stock_name in core_30.items():\n",
    "    stock_data = core_30_df[stock_code + '.T']\n",
    "    open_place = round(stock_data.Open[0], 1)\n",
    "    close_place = round(stock_data.Close[0], 1)\n",
    "    # print(open_place, close_place, stock_name)\n",
    "    \n",
    "    place_diff = round(close_place - open_place, 1)\n",
    "    price_diff_ratio_percent = round(place_diff / close_place * 100, 2)\n",
    "    sign = '+' if place_diff > 0 else ''\n",
    "\n",
    "    sentence += f'{stock_name}/{stock_code}\\n'\n",
    "    sentence += f'{close_place}({sign}{price_diff_ratio_percent}%)\\n'\n",
    "    \n",
    "    sentence += '\\n'\n",
    "\n",
    "    if len(sentence) > 120:\n",
    "        ans.append(sentence)\n",
    "        sentence = ''\n",
    "\n",
    "print(ans)\n"
   ]
  },
  {
   "cell_type": "code",
   "execution_count": 87,
   "metadata": {},
   "outputs": [
    {
     "name": "stdout",
     "output_type": "stream",
     "text": [
      "125\n",
      "129\n",
      "131\n",
      "127\n",
      "128\n",
      "129\n"
     ]
    }
   ],
   "source": [
    "for i, a in enumerate(ans):\n",
    "    print(len(a))\n",
    "    # print(i + 1)\n",
    "    # print(a + '\\n')"
   ]
  },
  {
   "cell_type": "code",
   "execution_count": 86,
   "metadata": {},
   "outputs": [
    {
     "data": {
      "text/plain": [
       "6"
      ]
     },
     "execution_count": 86,
     "metadata": {},
     "output_type": "execute_result"
    }
   ],
   "source": [
    "len(ans)\n"
   ]
  },
  {
   "cell_type": "code",
   "execution_count": null,
   "metadata": {},
   "outputs": [],
   "source": []
  }
 ],
 "metadata": {
  "interpreter": {
   "hash": "aee8b7b246df8f9039afb4144a1f6fd8d2ca17a180786b69acc140d282b71a49"
  },
  "kernelspec": {
   "display_name": "Python 3.9.2 64-bit",
   "name": "python3"
  },
  "language_info": {
   "codemirror_mode": {
    "name": "ipython",
    "version": 3
   },
   "file_extension": ".py",
   "mimetype": "text/x-python",
   "name": "python",
   "nbconvert_exporter": "python",
   "pygments_lexer": "ipython3",
   "version": "3.9.7"
  }
 },
 "nbformat": 4,
 "nbformat_minor": 4
}
